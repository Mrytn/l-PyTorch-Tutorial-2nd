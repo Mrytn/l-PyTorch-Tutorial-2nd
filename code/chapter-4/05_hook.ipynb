{
 "cells": [
  {
   "cell_type": "markdown",
   "metadata": {},
   "source": [
    "## torch.Tensor.register_hook\n"
   ]
  },
  {
   "cell_type": "code",
   "execution_count": 2,
   "metadata": {},
   "outputs": [
    {
     "name": "stdout",
     "output_type": "stream",
     "text": [
      "y.grad:  None\n",
      "y_grad[0]:  tensor([0.2500, 0.2500, 0.2500, 0.2500])\n",
      "z.grad:  None\n"
     ]
    },
    {
     "name": "stderr",
     "output_type": "stream",
     "text": [
      "C:\\Users\\admin\\AppData\\Local\\Temp\\ipykernel_3908\\1787383474.py:17: UserWarning: The .grad attribute of a Tensor that is not a leaf Tensor is being accessed. Its .grad attribute won't be populated during autograd.backward(). If you indeed want the .grad field to be populated for a non-leaf Tensor, use .retain_grad() on the non-leaf Tensor. If you access the non-leaf Tensor by mistake, make sure you access the leaf Tensor instead. See github.com/pytorch/pytorch/pull/30531 for more informations. (Triggered internally at C:\\cb\\pytorch_1000000000000\\work\\build\\aten\\src\\ATen/core/TensorBody.h:494.)\n",
      "  print(\"y.grad: \", y.grad)\n",
      "C:\\Users\\admin\\AppData\\Local\\Temp\\ipykernel_3908\\1787383474.py:19: UserWarning: The .grad attribute of a Tensor that is not a leaf Tensor is being accessed. Its .grad attribute won't be populated during autograd.backward(). If you indeed want the .grad field to be populated for a non-leaf Tensor, use .retain_grad() on the non-leaf Tensor. If you access the non-leaf Tensor by mistake, make sure you access the leaf Tensor instead. See github.com/pytorch/pytorch/pull/30531 for more informations. (Triggered internally at C:\\cb\\pytorch_1000000000000\\work\\build\\aten\\src\\ATen/core/TensorBody.h:494.)\n",
      "  print(\"z.grad: \", z.grad)\n"
     ]
    }
   ],
   "source": [
    "import torch\n",
    "y_grad = list()\n",
    "\n",
    "\n",
    "def grad_hook(grad):\n",
    "    y_grad.append(grad)\n",
    "\n",
    "\n",
    "x = torch.tensor([2., 2., 2., 2.], requires_grad=True)\n",
    "y = torch.pow(x, 2)\n",
    "z = torch.mean(y)\n",
    "# 这里 register_hook 注册了一个钩子，当 y 的梯度计算完成后，梯度值会传递给 grad_hook 并存储到 y_grad 中\n",
    "h = y.register_hook(grad_hook)\n",
    "z.backward()\n",
    "# y.grad 为 None，因为 y 不是叶子节点，它是 x 计算得到的中间变量。\n",
    "# 但 y_grad[0] 存储了钩子捕获的梯度，即 [0.25, 0.25, 0.25, 0.25]。\n",
    "print(\"y.grad: \", y.grad)\n",
    "print(\"y_grad[0]: \", y_grad[0])\n",
    "print(\"z.grad: \", z.grad)\n",
    "# # 移除 hook\n",
    "h.remove()    # removes the hook"
   ]
  },
  {
   "cell_type": "markdown",
   "metadata": {},
   "source": [
    "可以看到当 z.backward()结束后，张量 y 中的 grad 为 None，因为 y 是非叶子节点张量，在梯度反传结束之后，被释放。  \n",
    "在对张量 y 的 hook 函数（grad_hook）中，将 y 的梯度保存到了 y_grad 列表中，因此可以在 z.backward()结束后，仍旧可以在 y_grad[0]中读到 y 的梯度为 tensor([0.2500, 0.2500, 0.2500, 0.2500])\n"
   ]
  },
  {
   "cell_type": "code",
   "execution_count": 6,
   "metadata": {},
   "outputs": [
    {
     "name": "stdout",
     "output_type": "stream",
     "text": [
      "tensor([2., 2., 2., 2.])\n"
     ]
    }
   ],
   "source": [
    "import torch\n",
    "\n",
    "\n",
    "def grad_hook(grad):\n",
    "    grad *= 2\n",
    "\n",
    "\n",
    "x = torch.tensor([2., 2., 2., 2.], requires_grad=True)\n",
    "y = torch.pow(x, 2)\n",
    "z = torch.mean(y)\n",
    "h = x.register_hook(grad_hook)\n",
    "z.backward()\n",
    "print(x.grad)\n",
    "h.remove()    # removes the hook"
   ]
  },
  {
   "cell_type": "markdown",
   "metadata": {},
   "source": [
    "原 x 的梯度为 tensor([1., 1., 1., 1.])，经 grad_hook 操作后，梯度为 tensor([2., 2., 2., 2.])。\n"
   ]
  },
  {
   "cell_type": "markdown",
   "metadata": {},
   "source": [
    "## torch.nn.Module.register_forward_hook\n"
   ]
  },
  {
   "cell_type": "code",
   "execution_count": null,
   "metadata": {
    "code_folding": [
     2
    ]
   },
   "outputs": [
    {
     "name": "stdout",
     "output_type": "stream",
     "text": [
      "output shape: torch.Size([1, 2, 1, 1])\n",
      "output value: tensor([[[[ 9.]],\n",
      "\n",
      "         [[18.]]]], grad_fn=<MaxPool2DWithIndicesBackward0>)\n",
      "\n",
      "feature maps shape: torch.Size([1, 2, 2, 2])\n",
      "output value: tensor([[[[ 9.,  9.],\n",
      "          [ 9.,  9.]],\n",
      "\n",
      "         [[18., 18.],\n",
      "          [18., 18.]]]], grad_fn=<ConvolutionBackward0>)\n",
      "\n",
      "input shape: torch.Size([1, 1, 4, 4])\n",
      "input value: (tensor([[[[1., 1., 1., 1.],\n",
      "          [1., 1., 1., 1.],\n",
      "          [1., 1., 1., 1.],\n",
      "          [1., 1., 1., 1.]]]]),)\n"
     ]
    }
   ],
   "source": [
    "import torch\n",
    "import torch.nn as nn\n",
    "\n",
    "\n",
    "class Net(nn.Module):\n",
    "    def __init__(self):\n",
    "        super(Net, self).__init__()\n",
    "        self.conv1 = nn.Conv2d(1, 2, 3)  # 输入通道 1，输出通道 2，3x3 卷积核\n",
    "        self.pool1 = nn.MaxPool2d(2, 2)  # 2x2 最大池化\n",
    "\n",
    "    def forward(self, x):\n",
    "        x = self.conv1(x)\n",
    "        x = self.pool1(x)\n",
    "        return x\n",
    "# Hook 作用： 记录中间层数据，方便可视化特征图。\n",
    "\n",
    "\n",
    "def farward_hook(module, data_input, data_output):\n",
    "    fmap_block.append(data_output)  # 保存输出特征图\n",
    "    input_block.append(data_input)  # 保存输入数据\n",
    "\n",
    "\n",
    "# 初始化网络\n",
    "# conv1.weight[0]：第一组 3x3 卷积核，全部填充为 1。\n",
    "# conv1.weight[1]：第二组 3x3 卷积核，全部填充为 2。\n",
    "# conv1.bias.data.zero_()：设置 bias=0，避免影响结果。\n",
    "net = Net()\n",
    "net.conv1.weight[0].detach().fill_(1)\n",
    "net.conv1.weight[1].detach().fill_(2)\n",
    "net.conv1.bias.data.zero_()\n",
    "# 注册hook\n",
    "fmap_block = list()\n",
    "input_block = list()\n",
    "# register_forward_hook 绑定 conv1，执行时会调用 farward_hook。\n",
    "net.conv1.register_forward_hook(farward_hook)\n",
    "# inference\n",
    "fake_img = torch.ones((1, 1, 4, 4))   # batch size * channel * H * W\n",
    "output = net(fake_img)\n",
    "# 观察\n",
    "print(\"output shape: {}\\noutput value: {}\\n\".format(output.shape, output))\n",
    "print(\"feature maps shape: {}\\noutput value: {}\\n\".format(\n",
    "    fmap_block[0].shape, fmap_block[0]))\n",
    "print(\"input shape: {}\\ninput value: {}\".format(\n",
    "    input_block[0][0].shape, input_block[0]))"
   ]
  },
  {
   "cell_type": "markdown",
   "metadata": {},
   "source": [
    "首先初始化一个网络，卷积层有两个卷积核，权值分别为全 1 和全 2，bias 设置为 0，池化层采用 2\\*2 的最大池化。\n",
    "\n",
    "在进行 forward 之前对 module——conv1 注册了 forward_hook 函数，然后执行前向传播（output=net(fake_img)），当前向传播完成后， fmap_block 列表中的第一个元素就是 conv1 层输出的特征图了。\n",
    "\n",
    "这里注意观察 farward_hook 函数有 data_input 和 data_output 两个变量，特征图是 data_output 这个变量，而 data_input 是 conv1 层的输入数据， conv1 层的输入是一个 tuple 的形式。\n"
   ]
  }
 ],
 "metadata": {
  "kernelspec": {
   "display_name": "v3.11.6",
   "language": "python",
   "name": "python3"
  },
  "language_info": {
   "codemirror_mode": {
    "name": "ipython",
    "version": 3
   },
   "file_extension": ".py",
   "mimetype": "text/x-python",
   "name": "python",
   "nbconvert_exporter": "python",
   "pygments_lexer": "ipython3",
   "version": "3.11.6"
  }
 },
 "nbformat": 4,
 "nbformat_minor": 4
}
