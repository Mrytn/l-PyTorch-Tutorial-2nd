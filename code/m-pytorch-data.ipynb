{
 "cells": [
  {
   "cell_type": "code",
   "execution_count": 2,
   "metadata": {},
   "outputs": [],
   "source": [
    "import torch"
   ]
  },
  {
   "cell_type": "markdown",
   "metadata": {
    "vscode": {
     "languageId": "plaintext"
    }
   },
   "source": [
    "## torch.Generator\n"
   ]
  },
  {
   "cell_type": "code",
   "execution_count": null,
   "metadata": {},
   "outputs": [
    {
     "name": "stdout",
     "output_type": "stream",
     "text": [
      "tensor([2, 6, 1, 8, 4, 5, 0, 9, 3, 7])\n",
      "tensor([3, 5, 8, 9, 4, 6, 1, 0, 7, 2])\n",
      "[2, 1, 4, 1, 3, 1, 4, 3, 1, 4, 2]\n"
     ]
    }
   ],
   "source": [
    "# torch.Generator() 主要用于控制随机数生成的状态，可以保证 可复现性\n",
    "g = torch.Generator().manual_seed(42)  # 设置随机种子\n",
    "perm1 = torch.randperm(10, generator=g)\n",
    "perm2 = torch.randperm(10, generator=g)\n",
    "# torch.randint()：生成一个 包含 32 个随机整数 的张量。\n",
    "# high=n：指定生成的随机整数范围是 [0, n)，即生成的整数在 0 和 n-1 之间。\n",
    "# size=(32,)：指定生成 32 个整数。\n",
    "# dtype=torch.int64：指定生成的整数类型为 64 位整数。\n",
    "# generator=generator：使用指定的随机数生成器 generator，以确保生成的随机数具有确定性或可复现性。\n",
    "# .tolist()：将张量转换为 Python 列表，因为 yield 语句通常返回一个列表。\n",
    "r1 = torch.randint(high=5, size=(11,), dtype=torch.int64,\n",
    "                   generator=g).tolist()\n",
    "print(perm1)  # 每次运行都会得到相同的结果\n",
    "print(perm2)\n",
    "print(r1)"
   ]
  },
  {
   "cell_type": "markdown",
   "metadata": {},
   "source": [
    "## torch.randperm\n"
   ]
  },
  {
   "cell_type": "code",
   "execution_count": 12,
   "metadata": {},
   "outputs": [
    {
     "name": "stdout",
     "output_type": "stream",
     "text": [
      "tensor([3, 1, 5, 6, 7, 0, 4, 2, 8, 9])\n"
     ]
    }
   ],
   "source": [
    "# 生成随机排列\n",
    "perm = torch.randperm(10)\n",
    "print(perm)"
   ]
  }
 ],
 "metadata": {
  "kernelspec": {
   "display_name": "v3.11.6",
   "language": "python",
   "name": "python3"
  },
  "language_info": {
   "codemirror_mode": {
    "name": "ipython",
    "version": 3
   },
   "file_extension": ".py",
   "mimetype": "text/x-python",
   "name": "python",
   "nbconvert_exporter": "python",
   "pygments_lexer": "ipython3",
   "version": "3.11.6"
  }
 },
 "nbformat": 4,
 "nbformat_minor": 2
}
